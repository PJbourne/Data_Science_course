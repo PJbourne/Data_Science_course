{
  "cells": [
    {
      "cell_type": "markdown",
      "metadata": {
        "id": "view-in-github",
        "colab_type": "text"
      },
      "source": [
        "<a href=\"https://colab.research.google.com/github/PJbourne/Data_Science_course/blob/main/Tasks_Spark.ipynb\" target=\"_parent\"><img src=\"https://colab.research.google.com/assets/colab-badge.svg\" alt=\"Open In Colab\"/></a>"
      ]
    },
    {
      "cell_type": "markdown",
      "metadata": {
        "id": "YeCzA4OWKV6e"
      },
      "source": [
        "## Análise de dados utilizando RDD"
      ]
    },
    {
      "cell_type": "code",
      "execution_count": null,
      "metadata": {
        "colab": {
          "base_uri": "https://localhost:8080/"
        },
        "id": "2LtX5fBqE_EM",
        "outputId": "306a4705-f188-4bd0-c91b-5bb41cc9bafd"
      },
      "outputs": [
        {
          "name": "stdout",
          "output_type": "stream",
          "text": [
            "  % Total    % Received % Xferd  Average Speed   Time    Time     Time  Current\n",
            "                                 Dload  Upload   Total   Spent    Left  Speed\n",
            "100  6618  100  6618    0     0  38088      0 --:--:-- --:--:-- --:--:-- 38254\n"
          ]
        },
        {
          "data": {
            "text/plain": [
              "['192.168.0.2 - - [08/Jun/2024:09:47:40] \"GET /contact HTTP/1.1\" 200',\n",
              " '192.168.0.2 - - [08/Jun/2024:09:37:21] \"GET /about HTTP/1.1\" 500',\n",
              " '192.168.0.5 - - [08/Jun/2024:09:50:15] \"POST / HTTP/1.1\" 404',\n",
              " '192.168.0.5 - - [08/Jun/2024:09:08:56] \"POST /cart HTTP/1.1\" 200',\n",
              " '192.168.0.1 - - [08/Jun/2024:09:10:02] \"POST /contact HTTP/1.1\" 200']"
            ]
          },
          "execution_count": 4,
          "metadata": {},
          "output_type": "execute_result"
        }
      ],
      "source": [
        "from pyspark.sql import SparkSession\n",
        "\n",
        "# Criar SparkSession\n",
        "spark = SparkSession \\\n",
        "    .builder \\\n",
        "    .appName(\"Python Spark DataFrames\") \\\n",
        "    .config(\"spark.some.config.option\", \"some-value\") \\\n",
        "    .getOrCreate()\n",
        "sc = spark.sparkContext\n",
        "\n",
        "# Carregar o arquivo como RDD\n",
        "!curl -O https://raw.githubusercontent.com/farsilvar/data-mining-big-data-files/refs/heads/main/fake_web_logs.txt >> fake_web_logs.txt\n",
        "logsRDD = sc.textFile(\"fake_web_logs.txt\")\n",
        "\n",
        "# Ver as 5 primeiras linhas\n",
        "logsRDD.take(5)"
      ]
    },
    {
      "cell_type": "code",
      "execution_count": null,
      "metadata": {
        "id": "mCzPT2IMHmab"
      },
      "outputs": [],
      "source": [
        "# Filtrar as requisições GET\n",
        "getRDD = logsRDD.filter(lambda line: \"GET\" in line)\n",
        "\n",
        "# Filtrar requisições POST\n",
        "postRDD = logsRDD.filter(lambda line: \"POST\" in line)"
      ]
    },
    {
      "cell_type": "code",
      "execution_count": null,
      "metadata": {
        "colab": {
          "base_uri": "https://localhost:8080/"
        },
        "id": "1Vm5ZxjA-T4d",
        "outputId": "38899522-712b-4bb7-fe5e-253c519f100f"
      },
      "outputs": [
        {
          "data": {
            "text/plain": [
              "46"
            ]
          },
          "execution_count": 22,
          "metadata": {},
          "output_type": "execute_result"
        }
      ],
      "source": [
        "getRDD.count()"
      ]
    },
    {
      "cell_type": "code",
      "execution_count": null,
      "metadata": {
        "colab": {
          "base_uri": "https://localhost:8080/"
        },
        "id": "y7dizDVg-gy-",
        "outputId": "bcedecba-120a-42ef-dc51-b1f20b5f6fed"
      },
      "outputs": [
        {
          "data": {
            "text/plain": [
              "54"
            ]
          },
          "execution_count": 23,
          "metadata": {},
          "output_type": "execute_result"
        }
      ],
      "source": [
        "postRDD.count()"
      ]
    },
    {
      "cell_type": "code",
      "execution_count": null,
      "metadata": {
        "id": "2asE8-r7HnxQ"
      },
      "outputs": [],
      "source": [
        "# Extrair IP\n",
        "ipsRDD = logsRDD.map(lambda line: line.split()[0])\n",
        "# Contar quantos acessos por IP\n",
        "ipCounts = ipsRDD.map(lambda ip: (ip, 1)).reduceByKey(lambda a,b: a+b)"
      ]
    },
    {
      "cell_type": "code",
      "execution_count": null,
      "metadata": {
        "id": "aYrNV0RkHsOF"
      },
      "outputs": [],
      "source": [
        "# Contar quantos GET e POST\n",
        "get_post_counts = logsRDD.map(lambda line: (line.split()[5], 1)).reduceByKey(lambda a,b: a+b)\n",
        "\n",
        "# Ver acessos por IP\n",
        "ip_access_counts = logsRDD.map(lambda line: (line.split()[0], 1)).reduceByKey(lambda a,b: a+b)"
      ]
    },
    {
      "cell_type": "code",
      "execution_count": null,
      "metadata": {
        "colab": {
          "base_uri": "https://localhost:8080/"
        },
        "id": "x8c50IR78Sdd",
        "outputId": "8aa403db-39d0-4c6c-aa5f-3e8bffbde7ed"
      },
      "outputs": [
        {
          "data": {
            "text/plain": [
              "[('/about', 13),\n",
              " ('/', 19),\n",
              " ('/cart', 13),\n",
              " ('/index.html', 14),\n",
              " ('/contact', 20)]"
            ]
          },
          "execution_count": 12,
          "metadata": {},
          "output_type": "execute_result"
        }
      ],
      "source": [
        "get_post_counts.take(5)"
      ]
    },
    {
      "cell_type": "code",
      "execution_count": null,
      "metadata": {
        "colab": {
          "base_uri": "https://localhost:8080/"
        },
        "id": "86EE_BShICGo",
        "outputId": "237e5b12-b599-443d-cb05-71772d4b99c3"
      },
      "outputs": [
        {
          "name": "stdout",
          "output_type": "stream",
          "text": [
            "5\n",
            "5\n"
          ]
        }
      ],
      "source": [
        "# Criar cache para acelerar contagens repetidas\n",
        "cache_count = ip_access_counts.cache()\n",
        "\n",
        "# Primeira contagem (gera cache)\n",
        "first_count = cache_count.count()\n",
        "print(first_count)\n",
        "\n",
        "# Segunda contagem (já usa cache)\n",
        "second_count = cache_count.count()\n",
        "print(second_count)"
      ]
    },
    {
      "cell_type": "code",
      "execution_count": null,
      "metadata": {
        "colab": {
          "base_uri": "https://localhost:8080/"
        },
        "id": "JxRx9Mn69ZlL",
        "outputId": "1a37ebbf-342f-4fc8-dbab-86fb74fd2276"
      },
      "outputs": [
        {
          "data": {
            "text/plain": [
              "[('192.168.0.2', 22),\n",
              " ('192.168.0.1', 24),\n",
              " ('192.168.0.3', 22),\n",
              " ('192.168.0.5', 18),\n",
              " ('192.168.0.4', 14)]"
            ]
          },
          "execution_count": 16,
          "metadata": {},
          "output_type": "execute_result"
        }
      ],
      "source": [
        "cache_count.take(5)"
      ]
    },
    {
      "cell_type": "markdown",
      "metadata": {
        "id": "IK3qv5qpKCSP"
      },
      "source": [
        "## Análise de dados utilizando spark DataFrames"
      ]
    },
    {
      "cell_type": "code",
      "execution_count": null,
      "metadata": {
        "id": "jV4W2fWyIL-e"
      },
      "outputs": [],
      "source": [
        "from pyspark.sql import SparkSession\n",
        "\n",
        "# Criar SparkSession\n",
        "spark = SparkSession \\\n",
        "    .builder \\\n",
        "    .appName(\"Python Spark DataFrames\") \\\n",
        "    .config(\"spark.some.config.option\", \"some-value\") \\\n",
        "    .getOrCreate()"
      ]
    },
    {
      "cell_type": "code",
      "execution_count": null,
      "metadata": {
        "colab": {
          "base_uri": "https://localhost:8080/"
        },
        "id": "10HiO5t5IMis",
        "outputId": "3262f543-aad8-45ad-89af-e6aa94eb166d"
      },
      "outputs": [
        {
          "name": "stdout",
          "output_type": "stream",
          "text": [
            "+-------------------------------------------------------------------+\n",
            "|value                                                              |\n",
            "+-------------------------------------------------------------------+\n",
            "|192.168.0.2 - - [08/Jun/2024:09:47:40] \"GET /contact HTTP/1.1\" 200 |\n",
            "|192.168.0.2 - - [08/Jun/2024:09:37:21] \"GET /about HTTP/1.1\" 500   |\n",
            "|192.168.0.5 - - [08/Jun/2024:09:50:15] \"POST / HTTP/1.1\" 404       |\n",
            "|192.168.0.5 - - [08/Jun/2024:09:08:56] \"POST /cart HTTP/1.1\" 200   |\n",
            "|192.168.0.1 - - [08/Jun/2024:09:10:02] \"POST /contact HTTP/1.1\" 200|\n",
            "+-------------------------------------------------------------------+\n",
            "only showing top 5 rows\n",
            "\n"
          ]
        }
      ],
      "source": [
        "# Lê o arquivo como DataFrame de uma coluna: 'value'\n",
        "df_logs = spark.read.text(\"fake_web_logs.txt\")\n",
        "\n",
        "df_logs.show(5, truncate=False)"
      ]
    },
    {
      "cell_type": "code",
      "execution_count": null,
      "metadata": {
        "colab": {
          "base_uri": "https://localhost:8080/"
        },
        "id": "9yxvJ4jFIPSa",
        "outputId": "f98a374e-faf4-468f-cf85-0529c18cea7b"
      },
      "outputs": [
        {
          "name": "stdout",
          "output_type": "stream",
          "text": [
            "+-----------+------+--------+------+\n",
            "|ip         |method|endpoint|status|\n",
            "+-----------+------+--------+------+\n",
            "|192.168.0.2|GET   |/contact|200   |\n",
            "|192.168.0.2|GET   |/about  |500   |\n",
            "|192.168.0.5|POST  |/       |404   |\n",
            "|192.168.0.5|POST  |/cart   |200   |\n",
            "|192.168.0.1|POST  |/contact|200   |\n",
            "+-----------+------+--------+------+\n",
            "only showing top 5 rows\n",
            "\n"
          ]
        }
      ],
      "source": [
        "from pyspark.sql.functions import regexp_extract\n",
        "\n",
        "# Extrair IP, método, endpoint e status em uma única operação de select\n",
        "df_logs_processed = df_logs.select(\n",
        "    regexp_extract(\"value\", r\"^(\\S+)\", 1).alias(\"ip\"),\n",
        "    regexp_extract(\"value\", r\"\\[.*?\\]\\s\\\"([A-Z]+)\", 1).alias(\"method\"),\n",
        "    regexp_extract(\"value\", r\"\\s(\\S+)\\sHTTP\", 1).alias(\"endpoint\"),\n",
        "    regexp_extract(\"value\", r\"\\s(\\d{3})$\", 1).cast(\"integer\").alias(\"status\") # Adjusted regex for status\n",
        ")\n",
        "\n",
        "# Mostrar as primeiras 5 linhas com as colunas extraídas\n",
        "df_logs_processed.show(5, truncate=False)"
      ]
    },
    {
      "cell_type": "code",
      "execution_count": null,
      "metadata": {
        "colab": {
          "base_uri": "https://localhost:8080/"
        },
        "id": "Cp5iWazqIikL",
        "outputId": "c65dbc5b-7357-43f4-c6e0-1c434a58582f"
      },
      "outputs": [
        {
          "name": "stdout",
          "output_type": "stream",
          "text": [
            "+------+-----+\n",
            "|method|count|\n",
            "+------+-----+\n",
            "|  POST|   54|\n",
            "|   GET|   46|\n",
            "+------+-----+\n",
            "\n"
          ]
        }
      ],
      "source": [
        "# COntar GET e POST\n",
        "get_post_spark = df_logs_processed.groupBy(\"method\").count()\n",
        "get_post_spark.show()"
      ]
    },
    {
      "cell_type": "code",
      "execution_count": null,
      "metadata": {
        "colab": {
          "base_uri": "https://localhost:8080/"
        },
        "id": "OY79mSnqJbHR",
        "outputId": "078c09d8-df0b-4c3d-ea5d-468c2d9a7500"
      },
      "outputs": [
        {
          "name": "stdout",
          "output_type": "stream",
          "text": [
            "+-----------+-----+\n",
            "|         ip|count|\n",
            "+-----------+-----+\n",
            "|192.168.0.2|   22|\n",
            "|192.168.0.1|   24|\n",
            "|192.168.0.3|   22|\n",
            "|192.168.0.5|   18|\n",
            "|192.168.0.4|   14|\n",
            "+-----------+-----+\n",
            "\n"
          ]
        }
      ],
      "source": [
        "# Contar requisições por ip\n",
        "ip_request_count = df_logs_processed.groupBy(\"ip\").count()\n",
        "ip_request_count.show()"
      ]
    },
    {
      "cell_type": "code",
      "execution_count": null,
      "metadata": {
        "colab": {
          "base_uri": "https://localhost:8080/"
        },
        "id": "Ts__TX6KJdKo",
        "outputId": "1ff4dd2f-e019-4029-ef2b-52e49950d66f"
      },
      "outputs": [
        {
          "name": "stdout",
          "output_type": "stream",
          "text": [
            "+-----------+-----+\n",
            "|         ip|count|\n",
            "+-----------+-----+\n",
            "|192.168.0.2|   11|\n",
            "|192.168.0.1|   15|\n",
            "|192.168.0.3|   11|\n",
            "|192.168.0.5|    7|\n",
            "|192.168.0.4|   10|\n",
            "+-----------+-----+\n",
            "\n"
          ]
        }
      ],
      "source": [
        "# Contar requisições POST por ip\n",
        "ip_post_request_count = df_logs_processed.filter(df_logs_processed.method == \"POST\").groupBy(\"ip\").count()\n",
        "ip_post_request_count.show()"
      ]
    },
    {
      "cell_type": "code",
      "execution_count": null,
      "metadata": {
        "colab": {
          "base_uri": "https://localhost:8080/"
        },
        "id": "1VPneUFrJfbl",
        "outputId": "b0090488-6aa8-43a7-cd05-87bbc832ded0"
      },
      "outputs": [
        {
          "data": {
            "text/plain": [
              "56"
            ]
          },
          "execution_count": 41,
          "metadata": {},
          "output_type": "execute_result"
        }
      ],
      "source": [
        "# Contar requisições com status 200\n",
        "status_200_count = df_logs_processed.filter(df_logs_processed.status == 200).count()\n",
        "status_200_count"
      ]
    },
    {
      "cell_type": "code",
      "execution_count": null,
      "metadata": {
        "id": "EEyVoO8-HvWY"
      },
      "outputs": [],
      "source": []
    }
  ],
  "metadata": {
    "colab": {
      "provenance": [],
      "include_colab_link": true
    },
    "kernelspec": {
      "display_name": "Python 3",
      "name": "python3"
    },
    "language_info": {
      "name": "python"
    }
  },
  "nbformat": 4,
  "nbformat_minor": 0
}