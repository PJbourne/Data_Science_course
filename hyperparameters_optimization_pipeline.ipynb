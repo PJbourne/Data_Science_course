{
  "nbformat": 4,
  "nbformat_minor": 0,
  "metadata": {
    "colab": {
      "provenance": [],
      "authorship_tag": "ABX9TyMeYgN7PooGudHLs5uzyvPx",
      "include_colab_link": true
    },
    "kernelspec": {
      "name": "python3",
      "display_name": "Python 3"
    },
    "language_info": {
      "name": "python"
    }
  },
  "cells": [
    {
      "cell_type": "markdown",
      "metadata": {
        "id": "view-in-github",
        "colab_type": "text"
      },
      "source": [
        "<a href=\"https://colab.research.google.com/github/PJbourne/Data_Science_course/blob/main/hyperparameters_optimization_pipeline.ipynb\" target=\"_parent\"><img src=\"https://colab.research.google.com/assets/colab-badge.svg\" alt=\"Open In Colab\"/></a>"
      ]
    },
    {
      "cell_type": "markdown",
      "source": [
        "### Importação de dados e divisão"
      ],
      "metadata": {
        "id": "UOI4iRsyJMrm"
      }
    },
    {
      "cell_type": "code",
      "execution_count": 1,
      "metadata": {
        "id": "rATXNfVC6YMk"
      },
      "outputs": [],
      "source": [
        "import pandas as pd\n",
        "import numpy as np\n",
        "original_data = pd.read_csv('https://raw.githubusercontent.com/PJbourne/Data_Science_course/refs/heads/main/emp_automovel.csv')\n",
        "\n",
        "x = original_data.drop('inadimplente', axis = 1)\n",
        "y = original_data['inadimplente']\n",
        "\n",
        "from sklearn.model_selection import train_test_split\n",
        "SEED = 123\n",
        "X, x_test, Y, y_test = train_test_split(x, y, random_state = SEED, stratify = y, test_size = 0.15)\n",
        "x_treino, x_val, y_treino, y_val = train_test_split(X, Y, random_state = SEED, stratify = Y, test_size = 0.15)"
      ]
    },
    {
      "cell_type": "markdown",
      "source": [
        "### Modelos e parâmetros"
      ],
      "metadata": {
        "id": "V0GLpxe2JSa_"
      }
    },
    {
      "cell_type": "code",
      "source": [
        "from sklearn.tree import DecisionTreeClassifier\n",
        "from sklearn.ensemble import RandomForestClassifier\n",
        "from sklearn.neighbors import KNeighborsClassifier\n",
        "from sklearn.linear_model import LogisticRegression\n",
        "\n",
        "models_and_parameters = {\n",
        "    'DecisionTree': {\n",
        "        'model': DecisionTreeClassifier(random_state=SEED),\n",
        "        'params': {\n",
        "            'clf__criterion': ['gini', 'entropy'],\n",
        "            'clf__max_depth': [None, 6, 8, 10, 12]\n",
        "        }\n",
        "    },\n",
        "    'RandomForest': {\n",
        "        'model': RandomForestClassifier(random_state=SEED),\n",
        "        'params': {\n",
        "            'clf__n_estimators': [10, 50, 100],\n",
        "            'clf__max_depth': [None, 6, 10],\n",
        "            'clf__criterion': ['gini', 'entropy']\n",
        "        }\n",
        "    },\n",
        "    'KNN': {\n",
        "        'model': KNeighborsClassifier(),\n",
        "        'params': {\n",
        "            'clf__n_neighbors': [3, 5, 7, 9],\n",
        "            'clf__weights': ['uniform', 'distance']\n",
        "        }\n",
        "    },\n",
        "    'LogisticRegression': {\n",
        "        'model': LogisticRegression(max_iter=100, random_state=SEED),\n",
        "        'params': {\n",
        "            'clf__C': [0.01, 0.1, 1, 10],\n",
        "            'clf__penalty': ['l2'],\n",
        "            'clf__solver': ['lbfgs']\n",
        "        }\n",
        "    }\n",
        "}"
      ],
      "metadata": {
        "id": "fxj10x4G6oe3"
      },
      "execution_count": 2,
      "outputs": []
    },
    {
      "cell_type": "markdown",
      "source": [
        "### Nested Cross Validation em GridSearch no pipeline com SMOTE"
      ],
      "metadata": {
        "id": "s05chQSOJe8x"
      }
    },
    {
      "cell_type": "code",
      "source": [
        "from sklearn.model_selection import StratifiedKFold, GridSearchCV, cross_val_score\n",
        "from imblearn.pipeline import Pipeline as imbpipeline\n",
        "from imblearn.over_sampling import SMOTE\n",
        "import matplotlib.pyplot as plt\n",
        "\n",
        "outer_cv = StratifiedKFold(n_splits=5, shuffle=True, random_state=SEED)\n",
        "inner_cv = StratifiedKFold(n_splits=5, shuffle=True, random_state=SEED)\n",
        "\n",
        "results = {}\n",
        "\n",
        "for name, mp in models_and_parameters.items():\n",
        "    # pipeline com SMOTE e placeholder\n",
        "    pipeline = imbpipeline([\n",
        "        ('oversample', SMOTE(random_state=SEED)),\n",
        "        ('clf', mp['model'])\n",
        "    ])\n",
        "\n",
        "    # GridSearch interno\n",
        "    grid = GridSearchCV(\n",
        "        estimator=pipeline,\n",
        "        param_grid=mp['params'],\n",
        "        scoring='recall',\n",
        "        cv=inner_cv,\n",
        "        n_jobs=-1\n",
        "    )\n",
        "\n",
        "    # Nested CV\n",
        "    nested_scores = cross_val_score(\n",
        "        grid, X, Y,\n",
        "        cv=outer_cv,\n",
        "        scoring='recall',\n",
        "        n_jobs=-1\n",
        "    )\n",
        "\n",
        "    results[name] = {\n",
        "        'nested_mean_recall': np.mean(nested_scores),\n",
        "        'nested_std_recall': np.std(nested_scores),\n",
        "        'grid_search': grid\n",
        "    }\n",
        "\n",
        "    print(f\"{name}: recall médio aninhado = {results[name]['nested_mean_recall']:.3f} \"\n",
        "          f\"(+/- {results[name]['nested_std_recall']:.3f})\")"
      ],
      "metadata": {
        "colab": {
          "base_uri": "https://localhost:8080/"
        },
        "id": "3M8vFbM-7IlE",
        "outputId": "a0458280-0a91-4c3e-fd25-8aeeac84419a"
      },
      "execution_count": 3,
      "outputs": [
        {
          "output_type": "stream",
          "name": "stdout",
          "text": [
            "DecisionTree: recall médio aninhado = 0.270 (+/- 0.032)\n",
            "RandomForest: recall médio aninhado = 0.404 (+/- 0.031)\n",
            "KNN: recall médio aninhado = 0.389 (+/- 0.012)\n",
            "LogisticRegression: recall médio aninhado = 0.624 (+/- 0.020)\n"
          ]
        }
      ]
    },
    {
      "cell_type": "markdown",
      "source": [
        "#### Melhor modelo desempenhado"
      ],
      "metadata": {
        "id": "bTXyjCwgJyjS"
      }
    },
    {
      "cell_type": "code",
      "source": [
        "# 4. Selecionar melhor modelo\n",
        "best_model_name = max(results, key=lambda k: results[k]['nested_mean_recall'])\n",
        "best_entry = results[best_model_name]\n",
        "print(f\"\\nMelhor modelo: {best_model_name} com recall médio aninhado = {best_entry['nested_mean_recall']:.3f}\")"
      ],
      "metadata": {
        "colab": {
          "base_uri": "https://localhost:8080/"
        },
        "id": "Ds-5AuZy8FZT",
        "outputId": "f7f77964-a02b-4314-b9eb-d116a37f779f"
      },
      "execution_count": 4,
      "outputs": [
        {
          "output_type": "stream",
          "name": "stdout",
          "text": [
            "\n",
            "Melhor modelo: LogisticRegression com recall médio aninhado = 0.624\n"
          ]
        }
      ]
    },
    {
      "cell_type": "markdown",
      "source": [
        "#### Treino baseado no melhor modelo e melhor hiperparâmetros"
      ],
      "metadata": {
        "id": "RbNNntrAJ2gy"
      }
    },
    {
      "cell_type": "code",
      "source": [
        "# 5. Treinar GridSearch no conjunto completo para obter hiperparâmetros ótimos\n",
        "best_grid = best_entry['grid_search']\n",
        "best_grid.fit(X, Y)\n",
        "print(f\"Melhores parâmetros: {best_grid.best_params_}\")\n"
      ],
      "metadata": {
        "colab": {
          "base_uri": "https://localhost:8080/"
        },
        "id": "GqwEgAypO6K7",
        "outputId": "6bae2f8e-56c8-44bd-b822-30acd90bf20d"
      },
      "execution_count": 5,
      "outputs": [
        {
          "output_type": "stream",
          "name": "stdout",
          "text": [
            "Melhores parâmetros: {'clf__C': 10, 'clf__penalty': 'l2', 'clf__solver': 'lbfgs'}\n"
          ]
        },
        {
          "output_type": "stream",
          "name": "stderr",
          "text": [
            "/usr/local/lib/python3.11/dist-packages/sklearn/linear_model/_logistic.py:465: ConvergenceWarning: lbfgs failed to converge (status=1):\n",
            "STOP: TOTAL NO. OF ITERATIONS REACHED LIMIT.\n",
            "\n",
            "Increase the number of iterations (max_iter) or scale the data as shown in:\n",
            "    https://scikit-learn.org/stable/modules/preprocessing.html\n",
            "Please also refer to the documentation for alternative solver options:\n",
            "    https://scikit-learn.org/stable/modules/linear_model.html#logistic-regression\n",
            "  n_iter_i = _check_optimize_result(\n"
          ]
        }
      ]
    },
    {
      "cell_type": "markdown",
      "source": [
        "### Avaliação de desemepenho"
      ],
      "metadata": {
        "id": "U6rBk1n1KC39"
      }
    },
    {
      "cell_type": "code",
      "source": [
        "# 6. Avaliar no conjunto de teste ---\n",
        "from sklearn.metrics import classification_report, recall_score\n",
        "\n",
        "# Previsões\n",
        "y_pred = best_grid.predict(x_test)\n",
        "\n",
        "print(\"Classification Report no conjunto de teste:\")\n",
        "print(classification_report(y_test, y_pred))\n",
        "print(f\"Recall no teste: {recall_score(y_test, y_pred):.3f}\")\n"
      ],
      "metadata": {
        "colab": {
          "base_uri": "https://localhost:8080/"
        },
        "id": "iRlaHCkVGi9K",
        "outputId": "944e6446-7dd1-4f82-d567-0ceba261033a"
      },
      "execution_count": 8,
      "outputs": [
        {
          "output_type": "stream",
          "name": "stdout",
          "text": [
            "Classification Report no conjunto de teste:\n",
            "              precision    recall  f1-score   support\n",
            "\n",
            "           0       0.93      0.53      0.68      7397\n",
            "           1       0.11      0.61      0.19       707\n",
            "\n",
            "    accuracy                           0.54      8104\n",
            "   macro avg       0.52      0.57      0.43      8104\n",
            "weighted avg       0.86      0.54      0.64      8104\n",
            "\n",
            "Recall no teste: 0.605\n"
          ]
        }
      ]
    },
    {
      "cell_type": "markdown",
      "source": [
        "#### Modelo Melhor performance otimizado"
      ],
      "metadata": {
        "id": "NQv4FhEhJCSz"
      }
    },
    {
      "cell_type": "code",
      "source": [
        "# 8. Matriz de confusão\n",
        "from sklearn.metrics import confusion_matrix, ConfusionMatrixDisplay\n",
        "\n",
        "# Calcular matriz de confusão\n",
        "cm = confusion_matrix(y_test, y_pred)\n",
        "\n",
        "# Exibir matriz de confusão\n",
        "disp = ConfusionMatrixDisplay(confusion_matrix=cm, display_labels=best_grid.best_estimator_.named_steps['clf'].classes_)\n",
        "disp.plot(cmap=plt.cm.Blues)\n",
        "plt.title(f'Matriz de Confusão - {best_model_name}')\n",
        "plt.show()\n"
      ],
      "metadata": {
        "colab": {
          "base_uri": "https://localhost:8080/",
          "height": 472
        },
        "id": "0UyP5WBXHnxn",
        "outputId": "ad4bdf3b-9549-4ab6-cd57-bb304fd93bfc"
      },
      "execution_count": 9,
      "outputs": [
        {
          "output_type": "display_data",
          "data": {
            "text/plain": [
              "<Figure size 640x480 with 2 Axes>"
            ],
            "image/png": "[encoded data removed]"
          },
          "metadata": {}
        }
      ]
    },
    {
      "cell_type": "markdown",
      "source": [
        "#### Modelo Tree sem otimizações"
      ],
      "metadata": {
        "id": "40ua_rRXI7zA"
      }
    },
    {
      "cell_type": "code",
      "source": [
        "from sklearn.tree import DecisionTreeClassifier\n",
        "tree = DecisionTreeClassifier()\n",
        "x_treinoP, x_val, y_treinoP, y_val = train_test_split(x_treino, y_treino, random_state = SEED, stratify = y_treino, test_size = 0.15)\n",
        "from sklearn.metrics import confusion_matrix\n",
        "from sklearn.metrics import ConfusionMatrixDisplay\n",
        "tree.fit(x_treinoP, y_treinoP)\n",
        "y_predict = tree.predict(x_val)\n",
        "matrix = confusion_matrix(y_val, y_predict)\n",
        "grafico = ConfusionMatrixDisplay(matrix, display_labels=tree.classes_)\n",
        "grafico.plot()"
      ],
      "metadata": {
        "colab": {
          "base_uri": "https://localhost:8080/",
          "height": 467
        },
        "id": "7gbo6molNeJl",
        "outputId": "e5253643-c487-4375-b9be-143849a97096"
      },
      "execution_count": 10,
      "outputs": [
        {
          "output_type": "execute_result",
          "data": {
            "text/plain": [
              "<sklearn.metrics._plot.confusion_matrix.ConfusionMatrixDisplay at 0x7f780a58ee50>"
            ]
          },
          "metadata": {},
          "execution_count": 10
        },
        {
          "output_type": "display_data",
          "data": {
            "text/plain": [
              "<Figure size 640x480 with 2 Axes>"
            ],
            "image/png": "[encoded data removed]"
          },
          "metadata": {}
        }
      ]
    },
    {
      "cell_type": "code",
      "source": [],
      "metadata": {
        "id": "fi7wfredI4MA"
      },
      "execution_count": null,
      "outputs": []
    }
  ]
}