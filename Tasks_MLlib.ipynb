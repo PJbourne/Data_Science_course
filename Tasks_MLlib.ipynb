{
  "nbformat": 4,
  "nbformat_minor": 0,
  "metadata": {
    "colab": {
      "provenance": [],
      "include_colab_link": true
    },
    "kernelspec": {
      "name": "python3",
      "display_name": "Python 3"
    },
    "language_info": {
      "name": "python"
    }
  },
  "cells": [
    {
      "cell_type": "markdown",
      "metadata": {
        "id": "view-in-github",
        "colab_type": "text"
      },
      "source": [
        "<a href=\"https://colab.research.google.com/github/PJbourne/Data_Science_course/blob/main/Tasks_MLlib.ipynb\" target=\"_parent\"><img src=\"https://colab.research.google.com/assets/colab-badge.svg\" alt=\"Open In Colab\"/></a>"
      ]
    },
    {
      "cell_type": "code",
      "execution_count": null,
      "metadata": {
        "colab": {
          "base_uri": "https://localhost:8080/"
        },
        "id": "Zszc6D2J6_oT",
        "outputId": "3f41e339-812e-4d3d-c491-8725582d6d7d"
      },
      "outputs": [
        {
          "output_type": "stream",
          "name": "stdout",
          "text": [
            "  % Total    % Received % Xferd  Average Speed   Time    Time     Time  Current\n",
            "                                 Dload  Upload   Total   Spent    Left  Speed\n",
            "100  3231  100  3231    0     0  14892      0 --:--:-- --:--:-- --:--:-- 14889\n",
            "+---+-----+------------+---------+---------------+\n",
            "| id|idade|renda_mensal|categoria|comprou_produto|\n",
            "+---+-----+------------+---------+---------------+\n",
            "|  1|   42|        2192|        B|              0|\n",
            "|  2|   20|        9495|        C|              0|\n",
            "|  3|   38|        8424|        C|              0|\n",
            "|  4|   49|        6228|        B|              1|\n",
            "|  5|   26|        4657|        B|              1|\n",
            "+---+-----+------------+---------+---------------+\n",
            "only showing top 5 rows\n",
            "\n"
          ]
        }
      ],
      "source": [
        "from pyspark.sql import SparkSession\n",
        "from pyspark.ml.feature import StringIndexer, OneHotEncoder, VectorAssembler\n",
        "from pyspark.ml.classification import LogisticRegression\n",
        "from pyspark.ml import Pipeline\n",
        "from pyspark.ml.evaluation import BinaryClassificationEvaluator\n",
        "\n",
        "spark = SparkSession.builder.appName(\"ClassificacaoClientes\").getOrCreate()"
      ]
    },
    {
      "cell_type": "code",
      "source": [
        "#Indexar coluna categórica\n",
        "indexer = StringIndexer(inputCol=\"categoria\", outputCol=\"categoria_index\")\n",
        "encoder = OneHotEncoder(inputCols=[\"categoria_index\"], outputCols=[\"categoria_vec\"])\n",
        "\n",
        "# Montar vetor de features\n",
        "assembler = VectorAssembler(\n",
        "    inputCols=[\"idade\", \"renda_mensal\", \"categoria_vec\"], outputCol=\"features\"\n",
        ")\n",
        "\n",
        "# Modelo de regressão logística\n",
        "lr = LogisticRegression(labelCol=\"comprou_produto\", featuresCol=\"features\")\n",
        "\n",
        "# Pipeline completo\n",
        "pipeline = Pipeline(stages=[indexer, encoder, assembler, lr])\n",
        "\n",
        "# Divisão entre treino e teste\n",
        "train, test = df.randomSplit([0.7, 0.3], seed=42)\n",
        "\n",
        "# Treinamento do modelo\n",
        "model = pipeline.fit(train)"
      ],
      "metadata": {
        "id": "UIIZlSGcLCik"
      },
      "execution_count": null,
      "outputs": []
    },
    {
      "cell_type": "code",
      "source": [
        "!pip install pyspark"
      ],
      "metadata": {
        "colab": {
          "base_uri": "https://localhost:8080/"
        },
        "id": "n7ROmvu3SUKE",
        "outputId": "636bc5be-9f2b-425b-fccb-bebfc58d29d1"
      },
      "execution_count": null,
      "outputs": [
        {
          "output_type": "stream",
          "name": "stdout",
          "text": [
            "Requirement already satisfied: pyspark in /usr/local/lib/python3.11/dist-packages (3.5.1)\n",
            "Requirement already satisfied: py4j==0.10.9.7 in /usr/local/lib/python3.11/dist-packages (from pyspark) (0.10.9.7)\n"
          ]
        }
      ]
    },
    {
      "cell_type": "code",
      "source": [
        "from pyspark import SparkContext as sc"
      ],
      "metadata": {
        "id": "iYN_xU1KYlvY"
      },
      "execution_count": null,
      "outputs": []
    },
    {
      "cell_type": "code",
      "source": [
        "from pyspark.sql import SparkSession"
      ],
      "metadata": {
        "id": "Shci29j1ZOVJ"
      },
      "execution_count": null,
      "outputs": []
    },
    {
      "cell_type": "code",
      "source": [
        "from pyspark.sql import SparkSession\n",
        "spark = SparkSession.builder.getOrCreate()"
      ],
      "metadata": {
        "id": "HlZ6ja7a7dCS"
      },
      "execution_count": 1,
      "outputs": []
    },
    {
      "cell_type": "code",
      "source": [
        "!curl -O https://raw.githubusercontent.com/farsilvar/data-mining-big-data-files/refs/heads/main/client_data.csv >> client_data.csv\n",
        "df = spark.read.csv(\"client_data.csv\", header = True)"
      ],
      "metadata": {
        "colab": {
          "base_uri": "https://localhost:8080/"
        },
        "id": "kyv1gXjgY7Yd",
        "outputId": "4e471a98-d4e0-48fa-e1ce-b8bd95c4d7a0"
      },
      "execution_count": 7,
      "outputs": [
        {
          "output_type": "stream",
          "name": "stdout",
          "text": [
            "  % Total    % Received % Xferd  Average Speed   Time    Time     Time  Current\n",
            "                                 Dload  Upload   Total   Spent    Left  Speed\n",
            "\r  0     0    0     0    0     0      0      0 --:--:-- --:--:-- --:--:--     0\r100  3231  100  3231    0     0  15492      0 --:--:-- --:--:-- --:--:-- 15533\n"
          ]
        }
      ]
    },
    {
      "cell_type": "code",
      "source": [
        "df.show()"
      ],
      "metadata": {
        "colab": {
          "base_uri": "https://localhost:8080/"
        },
        "id": "tk34_8TkE7Hs",
        "outputId": "58c85300-a50f-4e2b-9907-23d96e77e95c"
      },
      "execution_count": 15,
      "outputs": [
        {
          "output_type": "stream",
          "name": "stdout",
          "text": [
            "+---+-----+------------+---------+---------------+\n",
            "| id|idade|renda_mensal|categoria|comprou_produto|\n",
            "+---+-----+------------+---------+---------------+\n",
            "|  1|   42|        2192|        B|              0|\n",
            "|  2|   20|        9495|        C|              0|\n",
            "|  3|   38|        8424|        C|              0|\n",
            "|  4|   49|        6228|        B|              1|\n",
            "|  5|   26|        4657|        B|              1|\n",
            "|  6|   65|       13098|        B|              0|\n",
            "|  7|   64|        3624|        C|              0|\n",
            "|  8|   53|        6611|        A|              1|\n",
            "|  9|   54|       14953|        B|              1|\n",
            "| 10|   25|        5839|        A|              1|\n",
            "| 11|   24|        5476|        C|              1|\n",
            "| 12|   61|       10339|        C|              1|\n",
            "| 13|   27|       10359|        C|              1|\n",
            "| 14|   43|        7755|        A|              0|\n",
            "| 15|   20|        3359|        A|              1|\n",
            "| 16|   60|        8361|        A|              0|\n",
            "| 17|   65|        5430|        B|              1|\n",
            "| 18|   53|        5695|        C|              1|\n",
            "| 19|   19|        7977|        A|              0|\n",
            "| 20|   19|       11666|        C|              1|\n",
            "+---+-----+------------+---------+---------------+\n",
            "only showing top 20 rows\n",
            "\n"
          ]
        }
      ]
    },
    {
      "cell_type": "code",
      "source": [
        "df.printSchema()"
      ],
      "metadata": {
        "id": "95udCado7Fxp",
        "colab": {
          "base_uri": "https://localhost:8080/"
        },
        "outputId": "3aa00b01-89e4-4aa8-e9f1-db3ec5148970"
      },
      "execution_count": 9,
      "outputs": [
        {
          "output_type": "stream",
          "name": "stdout",
          "text": [
            "root\n",
            " |-- id: string (nullable = true)\n",
            " |-- idade: string (nullable = true)\n",
            " |-- renda_mensal: string (nullable = true)\n",
            " |-- categoria: string (nullable = true)\n",
            " |-- comprou_produto: string (nullable = true)\n",
            "\n"
          ]
        }
      ]
    },
    {
      "cell_type": "code",
      "source": [
        "from pyspark.sql.functions import col\n",
        "df = df.withColumn(\"idade\", col(\"idade\").cast(\"int\"))\n",
        "df = df.withColumn(\"renda_mensal\", col(\"renda_mensal\").cast(\"int\"))\n",
        "df = df.withColumn(\"comprou_produto\", col(\"comprou_produto\").cast(\"int\"))"
      ],
      "metadata": {
        "id": "IKZeZHUw7ilN"
      },
      "execution_count": 11,
      "outputs": []
    },
    {
      "cell_type": "markdown",
      "source": [
        "ótimo. entendi. Bem, preciso utilizar validação cruzada para avaliar dois classificadores diferentes e relizar o teste do melhor modelo utilizando a métrica auc."
      ],
      "metadata": {
        "id": "mq1hazkpAU2h"
      }
    },
    {
      "cell_type": "code",
      "source": [
        "df.printSchema()"
      ],
      "metadata": {
        "colab": {
          "base_uri": "https://localhost:8080/"
        },
        "id": "8mZrD5no_zLL",
        "outputId": "3df9e613-8014-47e6-f94d-eb9c3c7a36dd"
      },
      "execution_count": 14,
      "outputs": [
        {
          "output_type": "stream",
          "name": "stdout",
          "text": [
            "root\n",
            " |-- id: string (nullable = true)\n",
            " |-- idade: integer (nullable = true)\n",
            " |-- renda_mensal: integer (nullable = true)\n",
            " |-- categoria: string (nullable = true)\n",
            " |-- comprou_produto: integer (nullable = true)\n",
            "\n"
          ]
        }
      ]
    },
    {
      "cell_type": "code",
      "source": [
        "df = df.withColumnRenamed(\"comprou_produto\", \"label\")"
      ],
      "metadata": {
        "id": "Xz6CUEyF_0s6"
      },
      "execution_count": 16,
      "outputs": []
    },
    {
      "cell_type": "code",
      "source": [
        "from pyspark.ml.feature import StringIndexer, VectorAssembler"
      ],
      "metadata": {
        "id": "Cm0Xo2A8GnE1"
      },
      "execution_count": 20,
      "outputs": []
    },
    {
      "cell_type": "code",
      "source": [
        "indexer = StringIndexer(inputCol=\"categoria\", outputCol=\"categoria_indexed\")"
      ],
      "metadata": {
        "id": "igDdTiuqGu4w"
      },
      "execution_count": 21,
      "outputs": []
    },
    {
      "cell_type": "code",
      "source": [
        "assembler = VectorAssembler(\n",
        "    inputCols=[\"idade\", \"renda_mensal\", \"categoria_indexed\"],\n",
        "    outputCol=\"features\"\n",
        ")"
      ],
      "metadata": {
        "id": "xBoPHcYsGytw"
      },
      "execution_count": 22,
      "outputs": []
    },
    {
      "cell_type": "code",
      "source": [
        "df_indexed = indexer.fit(df).transform(df)"
      ],
      "metadata": {
        "id": "my1jBDkfG3_a"
      },
      "execution_count": 24,
      "outputs": []
    },
    {
      "cell_type": "code",
      "source": [
        "df_indexed.show()"
      ],
      "metadata": {
        "colab": {
          "base_uri": "https://localhost:8080/"
        },
        "id": "trnoO6WBHH4B",
        "outputId": "53ec0878-a920-419a-da72-2f7e904e6ba3"
      },
      "execution_count": 27,
      "outputs": [
        {
          "output_type": "stream",
          "name": "stdout",
          "text": [
            "+---+-----+------------+---------+-----+-----------------+\n",
            "| id|idade|renda_mensal|categoria|label|categoria_indexed|\n",
            "+---+-----+------------+---------+-----+-----------------+\n",
            "|  1|   42|        2192|        B|    0|              1.0|\n",
            "|  2|   20|        9495|        C|    0|              2.0|\n",
            "|  3|   38|        8424|        C|    0|              2.0|\n",
            "|  4|   49|        6228|        B|    1|              1.0|\n",
            "|  5|   26|        4657|        B|    1|              1.0|\n",
            "|  6|   65|       13098|        B|    0|              1.0|\n",
            "|  7|   64|        3624|        C|    0|              2.0|\n",
            "|  8|   53|        6611|        A|    1|              0.0|\n",
            "|  9|   54|       14953|        B|    1|              1.0|\n",
            "| 10|   25|        5839|        A|    1|              0.0|\n",
            "| 11|   24|        5476|        C|    1|              2.0|\n",
            "| 12|   61|       10339|        C|    1|              2.0|\n",
            "| 13|   27|       10359|        C|    1|              2.0|\n",
            "| 14|   43|        7755|        A|    0|              0.0|\n",
            "| 15|   20|        3359|        A|    1|              0.0|\n",
            "| 16|   60|        8361|        A|    0|              0.0|\n",
            "| 17|   65|        5430|        B|    1|              1.0|\n",
            "| 18|   53|        5695|        C|    1|              2.0|\n",
            "| 19|   19|        7977|        A|    0|              0.0|\n",
            "| 20|   19|       11666|        C|    1|              2.0|\n",
            "+---+-----+------------+---------+-----+-----------------+\n",
            "only showing top 20 rows\n",
            "\n"
          ]
        }
      ]
    },
    {
      "cell_type": "code",
      "source": [
        "df_final = assembler.transform(df_indexed).select(\"features\", \"label\")"
      ],
      "metadata": {
        "id": "Nur-QN3vG58S"
      },
      "execution_count": 25,
      "outputs": []
    },
    {
      "cell_type": "code",
      "source": [
        "df_final.show()"
      ],
      "metadata": {
        "colab": {
          "base_uri": "https://localhost:8080/"
        },
        "id": "dLCn1MoyHArY",
        "outputId": "85f6c155-2dd7-4928-b7fb-ca1addca01b2"
      },
      "execution_count": 26,
      "outputs": [
        {
          "output_type": "stream",
          "name": "stdout",
          "text": [
            "+------------------+-----+\n",
            "|          features|label|\n",
            "+------------------+-----+\n",
            "| [42.0,2192.0,1.0]|    0|\n",
            "| [20.0,9495.0,2.0]|    0|\n",
            "| [38.0,8424.0,2.0]|    0|\n",
            "| [49.0,6228.0,1.0]|    1|\n",
            "| [26.0,4657.0,1.0]|    1|\n",
            "|[65.0,13098.0,1.0]|    0|\n",
            "| [64.0,3624.0,2.0]|    0|\n",
            "| [53.0,6611.0,0.0]|    1|\n",
            "|[54.0,14953.0,1.0]|    1|\n",
            "| [25.0,5839.0,0.0]|    1|\n",
            "| [24.0,5476.0,2.0]|    1|\n",
            "|[61.0,10339.0,2.0]|    1|\n",
            "|[27.0,10359.0,2.0]|    1|\n",
            "| [43.0,7755.0,0.0]|    0|\n",
            "| [20.0,3359.0,0.0]|    1|\n",
            "| [60.0,8361.0,0.0]|    0|\n",
            "| [65.0,5430.0,1.0]|    1|\n",
            "| [53.0,5695.0,2.0]|    1|\n",
            "| [19.0,7977.0,0.0]|    0|\n",
            "|[19.0,11666.0,2.0]|    1|\n",
            "+------------------+-----+\n",
            "only showing top 20 rows\n",
            "\n"
          ]
        }
      ]
    },
    {
      "cell_type": "code",
      "source": [
        "from pyspark.ml.classification import DecisionTreeClassifier, LogisticRegression"
      ],
      "metadata": {
        "id": "vAekZki6HDWs"
      },
      "execution_count": 28,
      "outputs": []
    },
    {
      "cell_type": "code",
      "source": [
        "train_data, test_data = df_final.randomSplit([0.8, 0.2], seed=42)"
      ],
      "metadata": {
        "id": "MblBFNTPNbOg"
      },
      "execution_count": 29,
      "outputs": []
    },
    {
      "cell_type": "code",
      "source": [
        "LR = LogisticRegression(featuresCol=\"features\", labelCol=\"label\")\n",
        "DT = DecisionTreeClassifier(featuresCol=\"features\", labelCol=\"label\")"
      ],
      "metadata": {
        "id": "LaCopwaUNfFD"
      },
      "execution_count": 30,
      "outputs": []
    },
    {
      "cell_type": "code",
      "source": [
        "from pyspark.ml.evaluation import BinaryClassificationEvaluator\n",
        "from pyspark.ml.tuning import CrossValidator, ParamGridBuilder"
      ],
      "metadata": {
        "id": "n3sUA9GtNi8l"
      },
      "execution_count": 32,
      "outputs": []
    },
    {
      "cell_type": "code",
      "source": [
        "lr_grid = ParamGridBuilder().addGrid(LR.regParam, [0.0, 0.1, 0.01]).build()\n",
        "dt_grid = ParamGridBuilder().addGrid(DT.maxDepth, [2, 3, 5]).build()"
      ],
      "metadata": {
        "id": "aIbwxZYWNy7w"
      },
      "execution_count": 33,
      "outputs": []
    },
    {
      "cell_type": "code",
      "source": [
        "evaluator = BinaryClassificationEvaluator(metricName=\"areaUnderROC\", labelCol=\"label\") #AreaUnderRoc = AUC \"Area sobre a Curva ROC\""
      ],
      "metadata": {
        "id": "sRz6SA74N60h"
      },
      "execution_count": 34,
      "outputs": []
    },
    {
      "cell_type": "code",
      "source": [
        "cv_lr = CrossValidator(estimator=LR,\n",
        "                       estimatorParamMaps=lr_grid,\n",
        "                       evaluator=evaluator,\n",
        "                       numFolds=3)\n",
        "\n",
        "cv_dt = CrossValidator(estimator=DT,\n",
        "                       estimatorParamMaps=dt_grid,\n",
        "                       evaluator=evaluator,\n",
        "                       numFolds=3)"
      ],
      "metadata": {
        "id": "ZTnuhtUvNmZu"
      },
      "execution_count": 36,
      "outputs": []
    },
    {
      "cell_type": "code",
      "source": [
        "model_lr = cv_lr.fit(train_data)\n",
        "model_dt = cv_dt.fit(train_data)"
      ],
      "metadata": {
        "id": "nt4dsLFyOSOi"
      },
      "execution_count": 37,
      "outputs": []
    },
    {
      "cell_type": "code",
      "source": [
        "pred_lr = model_lr.transform(test_data)\n",
        "pred_dt = model_dt.transform(test_data)"
      ],
      "metadata": {
        "id": "0MjCyjtjOYmY"
      },
      "execution_count": 38,
      "outputs": []
    },
    {
      "cell_type": "code",
      "source": [
        "auc_lr = evaluator.evaluate(pred_lr)\n",
        "auc_dt = evaluator.evaluate(pred_dt)"
      ],
      "metadata": {
        "id": "r7pwnZzlOdiG"
      },
      "execution_count": 39,
      "outputs": []
    },
    {
      "cell_type": "code",
      "source": [
        "print(f\"AUC - LR: {auc_lr:.4f}\")\n",
        "print(f\"AUC - DT: {auc_dt:.4f}\")"
      ],
      "metadata": {
        "colab": {
          "base_uri": "https://localhost:8080/"
        },
        "id": "x4ohThakOffN",
        "outputId": "db6eaca6-d925-4d7d-c95b-59a177377076"
      },
      "execution_count": 40,
      "outputs": [
        {
          "output_type": "stream",
          "name": "stdout",
          "text": [
            "AUC - LR: 0.6581\n",
            "AUC - DT: 0.6795\n"
          ]
        }
      ]
    },
    {
      "cell_type": "code",
      "source": [
        "predictions = model_dt.transform(test_data)"
      ],
      "metadata": {
        "id": "KyQAF88OOw5I"
      },
      "execution_count": 41,
      "outputs": []
    },
    {
      "cell_type": "markdown",
      "source": [
        "### Trechos a seguir são puramente gerados por IA"
      ],
      "metadata": {
        "id": "7BS1bZ3CPtEJ"
      }
    },
    {
      "cell_type": "code",
      "source": [
        "# A curva ROC fica disponível apenas para certos classificadores como LogisticRegression\n",
        "if hasattr(model_dt.bestModel, \"summary\"):\n",
        "    training_summary = model_dt.bestModel.summary\n",
        "\n",
        "    # DataFrame com a curva ROC\n",
        "    roc = training_summary.roc\n",
        "    roc.show()\n",
        "\n",
        "    print(f\"AUC = {training_summary.areaUnderROC}\")\n",
        "else:\n",
        "    print(\"⚠️ O modelo selecionado não suporta .summary (ex: DecisionTree não tem ROC diretamente).\")\n"
      ],
      "metadata": {
        "colab": {
          "base_uri": "https://localhost:8080/"
        },
        "id": "wWbQiAyvO9sX",
        "outputId": "fa54ba34-d50f-4342-c42f-a3398139d6ee"
      },
      "execution_count": 44,
      "outputs": [
        {
          "output_type": "stream",
          "name": "stdout",
          "text": [
            "⚠️ O modelo selecionado não suporta .summary (ex: DecisionTree não tem ROC diretamente).\n"
          ]
        }
      ]
    },
    {
      "cell_type": "code",
      "source": [
        "# Extrair probabilidades e rótulos verdadeiros\n",
        "probs_labels = predictions.select(\"probability\", \"label\").rdd.map(lambda row: (float(row.probability[1]), row.label))\n",
        "\n",
        "# Converter para Pandas para visualizar fora do Spark (exemplo visual com matplotlib, opcional)\n",
        "import pandas as pd\n",
        "from sklearn.metrics import roc_curve, auc\n",
        "import matplotlib.pyplot as plt\n",
        "\n",
        "data = probs_labels.collect()\n",
        "y_scores, y_true = zip(*data)\n",
        "\n",
        "fpr, tpr, _ = roc_curve(y_true, y_scores)\n",
        "roc_auc = auc(fpr, tpr)\n",
        "\n",
        "plt.figure()\n",
        "plt.plot(fpr, tpr, label=f'ROC curve (AUC = {roc_auc:.2f})')\n",
        "plt.plot([0, 1], [0, 1], 'k--')\n",
        "plt.xlabel('False Positive Rate')\n",
        "plt.ylabel('True Positive Rate')\n",
        "plt.title('Curva ROC')\n",
        "plt.legend(loc='lower right')\n",
        "plt.grid()\n",
        "plt.show()"
      ],
      "metadata": {
        "colab": {
          "base_uri": "https://localhost:8080/",
          "height": 472
        },
        "id": "Nw311LnxPCu5",
        "outputId": "98057dc9-5c24-4985-f1b1-931323262375"
      },
      "execution_count": 45,
      "outputs": [
        {
          "output_type": "display_data",
          "data": {
            "text/plain": [
              "<Figure size 640x480 with 1 Axes>"
            ],
            "image/png": "[encoded data removed]"
          },
          "metadata": {}
        }
      ]
    },
    {
      "cell_type": "code",
      "source": [],
      "metadata": {
        "id": "t2KDmPuzPhgQ"
      },
      "execution_count": null,
      "outputs": []
    }
  ]
}